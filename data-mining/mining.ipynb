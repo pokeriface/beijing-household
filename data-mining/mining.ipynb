{
 "cells": [
  {
   "cell_type": "code",
   "execution_count": 1,
   "id": "e66cfd7c",
   "metadata": {
    "scrolled": true
   },
   "outputs": [],
   "source": [
    "import matplotlib.pyplot as plt\n",
    "import pandas as pd\n",
    "import numpy as np\n",
    "from pandas import Series\n",
    "from pandas import DataFrame\n",
    "\n",
    "\n",
    "src_2018_details = pd.read_json('../data/details-2018.json', lines=True)\n",
    "\n",
    "src_2020_details = pd.read_json('../data/details-2020.json', lines=True)\n",
    "\n",
    "src_2021_details = pd.read_json('../data/details-2021.json', lines=True)\n",
    "\n",
    "src_2022_details = pd.read_json('../data/details-2022.json', lines=True)\n"
   ]
  },
  {
   "cell_type": "code",
   "execution_count": 2,
   "id": "70fbda6b",
   "metadata": {},
   "outputs": [],
   "source": [
    "def entry_score(df: DataFrame):\n",
    "    scores = df['score']\n",
    "\n",
    "    value = scores.min(skipna = True)\n",
    "    type(value)\n",
    "    \n",
    "    return value"
   ]
  },
  {
   "cell_type": "code",
   "execution_count": 24,
   "id": "0762a1a2",
   "metadata": {},
   "outputs": [
    {
     "name": "stdout",
     "output_type": "stream",
     "text": [
      "90.75\n"
     ]
    },
    {
     "data": {
      "text/html": [
       "<div>\n",
       "<style scoped>\n",
       "    .dataframe tbody tr th:only-of-type {\n",
       "        vertical-align: middle;\n",
       "    }\n",
       "\n",
       "    .dataframe tbody tr th {\n",
       "        vertical-align: top;\n",
       "    }\n",
       "\n",
       "    .dataframe thead th {\n",
       "        text-align: right;\n",
       "    }\n",
       "</style>\n",
       "<table border=\"1\" class=\"dataframe\">\n",
       "  <thead>\n",
       "    <tr style=\"text-align: right;\">\n",
       "      <th></th>\n",
       "      <th>year</th>\n",
       "      <th>score</th>\n",
       "    </tr>\n",
       "  </thead>\n",
       "  <tbody>\n",
       "    <tr>\n",
       "      <th>0</th>\n",
       "      <td>2018</td>\n",
       "      <td>90.75</td>\n",
       "    </tr>\n",
       "    <tr>\n",
       "      <th>1</th>\n",
       "      <td>2019</td>\n",
       "      <td>93.58</td>\n",
       "    </tr>\n",
       "    <tr>\n",
       "      <th>2</th>\n",
       "      <td>2020</td>\n",
       "      <td>97.13</td>\n",
       "    </tr>\n",
       "    <tr>\n",
       "      <th>3</th>\n",
       "      <td>2021</td>\n",
       "      <td>100.88</td>\n",
       "    </tr>\n",
       "    <tr>\n",
       "      <th>4</th>\n",
       "      <td>2022</td>\n",
       "      <td>105.42</td>\n",
       "    </tr>\n",
       "  </tbody>\n",
       "</table>\n",
       "</div>"
      ],
      "text/plain": [
       "   year   score\n",
       "0  2018   90.75\n",
       "1  2019   93.58\n",
       "2  2020   97.13\n",
       "3  2021  100.88\n",
       "4  2022  105.42"
      ]
     },
     "execution_count": 24,
     "metadata": {},
     "output_type": "execute_result"
    }
   ],
   "source": [
    "entry_2018 = entry_score(src_2018_details)\n",
    "print(entry_2018)\n",
    "\n",
    "entry_2020 = entry_score(src_2020_details)\n",
    "\n",
    "entry_2021 = entry_score(src_2021_details)\n",
    "\n",
    "entry_2022 = entry_score(src_2022_details)\n",
    "\n",
    "# entry_lines = pd.DataFrame({'score':{2018:entry_2018, 2019:93.58, 2020:entry_2020, 2021:entry_2021, 2022:entry_2022}}, columns=['year', 'score'])\n",
    "\n",
    "entry_lines = pd.DataFrame({'year':[2018, 2019, 2020, 2021, 2022], 'score':[entry_2018, 93.58, entry_2020, entry_2021, entry_2022]})"
   ]
  },
  {
   "cell_type": "code",
   "execution_count": 37,
   "id": "9ffde96d",
   "metadata": {},
   "outputs": [
    {
     "data": {
      "image/png": "[encoded data removed]",
      "text/plain": [
       "<Figure size 432x288 with 1 Axes>"
      ]
     },
     "metadata": {
      "needs_background": "light"
     },
     "output_type": "display_data"
    }
   ],
   "source": [
    "ax = entry_lines.plot(x = 'year', y = 'score', marker = 'o', markersize=5, xticks = entry_lines['year'])\n",
    "\n",
    "fig = ax.get_figure()\n",
    "\n",
    "fig.savefig('../img/score_trend.jpeg')"
   ]
  }
 ],
 "metadata": {
  "kernelspec": {
   "display_name": "Python 3 (ipykernel)",
   "language": "python",
   "name": "python3"
  },
  "language_info": {
   "codemirror_mode": {
    "name": "ipython",
    "version": 3
   },
   "file_extension": ".py",
   "mimetype": "text/x-python",
   "name": "python",
   "nbconvert_exporter": "python",
   "pygments_lexer": "ipython3",
   "version": "3.9.12"
  }
 },
 "nbformat": 4,
 "nbformat_minor": 5
}
