{
 "cells": [
  {
   "cell_type": "code",
   "execution_count": 27,
   "id": "2384f742",
   "metadata": {},
   "outputs": [],
   "source": [
    "import matplotlib.pyplot as plt\n",
    "import pandas as pd\n",
    "import numpy as np\n",
    "from pandas import Series\n",
    "from pandas import DataFrame\n",
    "\n",
    "\n",
    "candidates = pd.read_csv('../data/2022-v1.csv')\n",
    "# help(candidates)\n",
    "\n",
    "# df_distinct = candidates.drop_duplicates ()\n",
    "\n",
    "# df_distinct.to_json(path_or_buf='../data/2022-v1.json', orient=\"records\", lines=True, force_ascii=False, double_precision=10)\n",
    "\n",
    "candidates.to_json(path_or_buf='../data/details-2022.json', orient=\"records\", lines=True, force_ascii=False, double_precision=10)"
   ]
  },
  {
   "cell_type": "code",
   "execution_count": 31,
   "id": "3a9374dc",
   "metadata": {},
   "outputs": [],
   "source": [
    "candidates = pd.read_json('../data/2018.json')\n",
    "\n",
    "candidates.to_json(path_or_buf='../data/details-2018.json', orient=\"records\", lines=True, force_ascii=False, double_precision=10)\n",
    "\n",
    "candidates = pd.read_json('../data/2020.json')\n",
    "\n",
    "candidates.to_json(path_or_buf='../data/details-2020.json', orient=\"records\", lines=True, force_ascii=False, double_precision=10)\n",
    "\n",
    "candidates = pd.read_json('../data/2021.json')\n",
    "\n",
    "candidates.to_json(path_or_buf='../data/details-2021.json', orient=\"records\", lines=True, force_ascii=False, double_precision=10)"
   ]
  }
 ],
 "metadata": {
  "kernelspec": {
   "display_name": "Python 3 (ipykernel)",
   "language": "python",
   "name": "python3"
  },
  "language_info": {
   "codemirror_mode": {
    "name": "ipython",
    "version": 3
   },
   "file_extension": ".py",
   "mimetype": "text/x-python",
   "name": "python",
   "nbconvert_exporter": "python",
   "pygments_lexer": "ipython3",
   "version": "3.9.12"
  }
 },
 "nbformat": 4,
 "nbformat_minor": 5
}
